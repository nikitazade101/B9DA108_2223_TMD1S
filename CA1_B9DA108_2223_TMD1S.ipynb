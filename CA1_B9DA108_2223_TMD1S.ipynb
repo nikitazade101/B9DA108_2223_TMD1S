{
  "nbformat": 4,
  "nbformat_minor": 0,
  "metadata": {
    "colab": {
      "provenance": [],
      "authorship_tag": "ABX9TyNj2FEe6/IIiUoL/Gl1USw7",
      "include_colab_link": true
    },
    "kernelspec": {
      "name": "python3",
      "display_name": "Python 3"
    },
    "language_info": {
      "name": "python"
    }
  },
  "cells": [
    {
      "cell_type": "markdown",
      "metadata": {
        "id": "view-in-github",
        "colab_type": "text"
      },
      "source": [
        "<a href=\"https://colab.research.google.com/github/nikitazade101/B9DA108_2223_TMD1S/blob/main/CA1_B9DA108_2223_TMD1S.ipynb\" target=\"_parent\"><img src=\"https://colab.research.google.com/assets/colab-badge.svg\" alt=\"Open In Colab\"/></a>"
      ]
    },
    {
      "cell_type": "code",
      "execution_count": 2,
      "metadata": {
        "id": "DECGquLPJlYA"
      },
      "outputs": [],
      "source": [
        "\n",
        "from bs4 import BeautifulSoup\n",
        "import json\n",
        "import pandas as pd\n",
        "import requests\n",
        "\n",
        "##try skyscanner with api"
      ]
    },
    {
      "cell_type": "code",
      "source": [
        "url='https://www.skyscanner.ie/g/browse-view-bff/dataservices/browse/v3/bvweb/IE/EUR/en-GB/destinations/DUB/US/anytime/anytime/?profile=minimalcityrollupwithnamesv2&include=image;hotel;adverts&apikey=8aa374f4e28e4664bf268f850f767535&isMobilePhone=false&isOptedInForPersonalised=true'"
      ],
      "metadata": {
        "id": "rue9oCWrKq9_"
      },
      "execution_count": 10,
      "outputs": []
    },
    {
      "cell_type": "code",
      "source": [
        "data = 'profile=minimalcityrollupwithnamesv2&include=image;hotel;adverts&apikey=8aa374f4e28e4664bf268f850f767535&isMobilePhone=false&isOptedInForPersonalised=true'\n",
        "headers = {'accept': 'application/json, text/javascript, */*; q=0.01',\n",
        "'accept-encoding': 'gzip, deflate',\n",
        "'accept-language': 'en-US,en;q=0.9',\n",
        "'cookie': '_pxhd=OASLEcObTsnJhODM1Q1pgQFJ7jF0fRhZ5DmmJQLTH-OrblOCdqYu3JPf6drIGFEyT1fJdrNCV1IkL/Zf8uiJ2g==:Lzw/Zab37EEpXT0LWIXYoYbmCtKOT/IIBbKV6SkG9mSbqbQbSQpvDgy37/F2GlwndGcXsKrsEld2cK80TLFcsg3E3WNrnnOMI29rlJucTDs=; _csrf=kf85VohDrAKVSKO9mwNAYvrk; traveller_context=4a693fc3-72b8-4473-aab0-7a53eb7999f4; __Secure-anon_token=eyJhbGciOiJSUzI1NiIsInR5cCI6IkpXVCIsImtpZCI6ImM3ZGZlYjI2LTlmZjUtNDY4OC1iYjc3LWRiNTY2NWUyNjFkZSJ9.eyJhenAiOiIyNWM3MGZmZDAwN2JkOGQzODM3NyIsImh0dHBzOi8vc2t5c2Nhbm5lci5uZXQvbG9naW5UeXBlIjoiYW5vbnltb3VzIiwiaHR0cHM6Ly9za3lzY2FubmVyLm5ldC91dGlkIjoiNGE2OTNmYzMtNzJiOC00NDczLWFhYjAtN2E1M2ViNzk5OWY0IiwiaHR0cHM6Ly9za3lzY2FubmVyLm5ldC9jc3JmIjoiNjQyNzQ5ZmRmYjk4YjZiNDY1YzYwZDY0MzhhOTkwYTAiLCJodHRwczovL3NreXNjYW5uZXIubmV0L2p0aSI6ImM4ZDcxODc1LTgyYTgtNDJjNS1hZGY4LTc3OTIzNTQ5ODdiZCIsImlhdCI6MTY3MDM0Mzg4OSwiZXhwIjoxNzMzNDE1ODg5LCJhdWQiOiJodHRwczovL2dhdGV3YXkuc2t5c2Nhbm5lci5uZXQvaWRlbnRpdHkiLCJpc3MiOiJodHRwczovL3d3dy5za3lzY2FubmVyLm5ldC9zdHRjL2lkZW50aXR5L2p3a3MvcHJvZC8ifQ.Go2nUaLSFULL3hui7IM7KvJNtGfDJGiYfbVgkT_8iXHR2K7Uf4kxCL5j7ANmqfXnC1e9Oea2GonaKmrh03lQqQ1EICbtHHRqbu_gHwvRJ_i3evZcwB-wHjsMww8z-thfXG9hqaftBMlaZsoKTNVoh1Nmj2XEoxWPN9Yln2uXceUwv09oN64ur-2yU_p61EjrVZtLtgTPgIH1_PpFlM6k2tgbrH9slq3rMBrti5Ml5caX_sGzfP39aDo_kT3xh2doCahDLBdyAob_R0g5dj42T2drRsEiNKc4uVTCvPCv8_QsfIca5U4Av33gyoJLJO3uZec3jEgcS0omEfeof-WsjA; __Secure-anon_csrf_token=642749fdfb98b6b465c60d6438a990a0; ssab=AAExperiment_V9:::a&BD_destination_placeholder_desktop_V2:::b&EUR_flights_dbook_coupon_flow_V2:::b&carhire_dbook_enabled_unified_payment_V3:::a&dbook_ryan_trafficcontrol_web_V28:::a&desktop_homepage_consolidation_allocation_V35:::a&dummy_backspin_V7:::a&fps_enable_agora_web_V11:::a&fps_mr_fqs_flights_ranking_ceres_v3__25i_desktop_V3:::a&fps_ttlr_early_timeout_web_V21:::a&global_inline_test_v2_V3:::j&hercules_cancel_for_any_reason_V4:::b&hercules_suppress_saved_passengers_V13:::b&mr_migration_proxy_test_always_on_V4:::a&strevda_gam6_V4:::b; experiment_allocation_id=ca5599876b7953de9d773ba679c02027639cb7f86dbe10322f0eb3f52cdc2ef1; ssaboverrides=; abgroup=14243277; ssculture=locale:::en-GB&market:::IE&currency:::EUR; scanner=currency:::EUR; __Secure-ska=2d14e478-4571-4e5d-8ecb-be01f7aa0233; device_guid=2d14e478-4571-4e5d-8ecb-be01f7aa0233; preferences=4a693fc372b84473aab07a53eb7999f4; _ga=GA1.2.1808330966.1670343891; _gid=GA1.2.595105423.1670343891; pxcts=849a6319-7582-11ed-ba85-466a54516652; _pxvid=814f4ef7-7582-11ed-a1a9-616f477a7242; __pxvid=84fcb594-7582-11ed-9386-0242ac120002; gdpr=information:::true&adverts:::true&version:::2; _gcl_au=1.1.1315526163.1670343923; __gsas=ID=e0da3dd5ee62efae:T=1670343924:S=ALNI_Makn1dHvJ_K_cvSlelROxr7wI8zOA; _fbp=fb.1.1670343922992.517966684; __gads=ID=0a923e1d265e5a07:T=1670343925:S=ALNI_MaoZ6Z_hi4HvmlpPLw8mhO4ycTIYg; __gpi=UID=00000b2d122aab1c:T=1670343925:RT=1670343925:S=ALNI_MZhLnOeD_xYn_m0IAodvY94wn-VGQ; _uetsid=953ad200758211ed94f6afda42b53521; _uetvid=953af8e0758211ed84ebf1551c54418d; cto_bundle=2htdXV9DVCUyRkFRVVpXeWs4RDc5ZE53V09ZQyUyQlRiSzY0JTJCODZ2RDJpSGlvJTJCJTJCZ2RwbyUyQnhZQ0VXMXdscVk5eGRZVkRSMzZlSW9yQks1a3pDZ2o1MktFUWglMkJkWjFpZkhjbEVDZFNCV2tpbm5tbUlSa0dKJTJCS2cya1U2Uk11c0cyJTJGNXN1Tmt1SnlEbVJkRENiU2JVREVuZWh2UXRaMFElM0QlM0Q; _px3=cdc86b2595350f4c97368423af748f0cc9049696256e5c21723c3108c367308b:2o4388CYcOsZT/VefMaqSVE0GusJDsOLZEJfkLl8RToz+Bc8794Av3e65V4XrGXFiNapXeod3LMdDo7H07aBDg==:1000:4E78lcZMGCL0vAcpnTbAz3xqSBMf8KMdcD5J/qnR0T9/+mUDBntFU7NmBHDxdSzrp3yVJ9RFUxzSej5jbq661AI0YP2Z+bocCp4UVnkLoaqylCwfvY7JRpeCsu6mAzDRXWMA8yTArzQCrkguQdrhuqRC7EFQ2mmJQW0ClUT9fkpOUL0R4L/jnAuA+KXcTeY2L5GOplS1un3Ssmwc+Dp43A==; _gat=1','referer': 'https://www.skyscanner.ie/transport/flights/dub/us/?previousCultureSource=GEO_LOCATION&redirectedFrom=www.skyscanner.com&adults=1&adultsv2=1&cabinclass=economy&children=0&childrenv2=&inboundaltsenabled=false&infants=0&originentityid=27540823&outboundaltsenabled=false&preferdirects=false&ref=home&rtn=1',\n",
        "'sec-ch-ua': '\"Not?A_Brand\";v=\"8\", \"Chromium\";v=\"108\", \"Google Chrome\";v=\"108”',\n",
        "'sec-ch-ua-mobile': '?0',\n",
        "'sec-ch-ua-platform': '\"macOS”',\n",
        "'sec-fetch-dest': 'empty',\n",
        "'sec-fetch-mode': 'cors',\n",
        "'sec-fetch-site': 'same-origin',\n",
        "'user-agent': 'Mozilla/5.0 (Macintosh; Intel Mac OS X 10_15_7) AppleWebKit/537.36 (KHTML, like Gecko) Chrome/108.0.0.0 Safari/537.36',\n",
        "'x-requested-with': 'XMLHttpRequest'}"
      ],
      "metadata": {
        "id": "xeaqSrmrQUkS"
      },
      "execution_count": 8,
      "outputs": []
    },
    {
      "cell_type": "code",
      "source": [
        "resp=requests.get(url, data=data, headers=headers)"
      ],
      "metadata": {
        "colab": {
          "base_uri": "https://localhost:8080/",
          "height": 311
        },
        "id": "J4zyamyhOAmo",
        "outputId": "098eb1ed-2622-42ec-cda0-50a09872ed91"
      },
      "execution_count": 11,
      "outputs": [
        {
          "output_type": "error",
          "ename": "UnicodeEncodeError",
          "evalue": "ignored",
          "traceback": [
            "\u001b[0;31m---------------------------------------------------------------------------\u001b[0m",
            "\u001b[0;31mUnicodeEncodeError\u001b[0m                        Traceback (most recent call last)",
            "\u001b[0;32m<ipython-input-11-3ffdff0a697b>\u001b[0m in \u001b[0;36m<module>\u001b[0;34m\u001b[0m\n\u001b[0;32m----> 1\u001b[0;31m \u001b[0mresp\u001b[0m\u001b[0;34m=\u001b[0m\u001b[0mrequests\u001b[0m\u001b[0;34m.\u001b[0m\u001b[0mget\u001b[0m\u001b[0;34m(\u001b[0m\u001b[0murl\u001b[0m\u001b[0;34m,\u001b[0m \u001b[0mdata\u001b[0m\u001b[0;34m=\u001b[0m\u001b[0mdata\u001b[0m\u001b[0;34m,\u001b[0m \u001b[0mheaders\u001b[0m\u001b[0;34m=\u001b[0m\u001b[0mheaders\u001b[0m\u001b[0;34m)\u001b[0m\u001b[0;34m\u001b[0m\u001b[0;34m\u001b[0m\u001b[0m\n\u001b[0m",
            "\u001b[0;32m/usr/local/lib/python3.8/dist-packages/requests/api.py\u001b[0m in \u001b[0;36mget\u001b[0;34m(url, params, **kwargs)\u001b[0m\n\u001b[1;32m     74\u001b[0m \u001b[0;34m\u001b[0m\u001b[0m\n\u001b[1;32m     75\u001b[0m     \u001b[0mkwargs\u001b[0m\u001b[0;34m.\u001b[0m\u001b[0msetdefault\u001b[0m\u001b[0;34m(\u001b[0m\u001b[0;34m'allow_redirects'\u001b[0m\u001b[0;34m,\u001b[0m \u001b[0;32mTrue\u001b[0m\u001b[0;34m)\u001b[0m\u001b[0;34m\u001b[0m\u001b[0;34m\u001b[0m\u001b[0m\n\u001b[0;32m---> 76\u001b[0;31m     \u001b[0;32mreturn\u001b[0m \u001b[0mrequest\u001b[0m\u001b[0;34m(\u001b[0m\u001b[0;34m'get'\u001b[0m\u001b[0;34m,\u001b[0m \u001b[0murl\u001b[0m\u001b[0;34m,\u001b[0m \u001b[0mparams\u001b[0m\u001b[0;34m=\u001b[0m\u001b[0mparams\u001b[0m\u001b[0;34m,\u001b[0m \u001b[0;34m**\u001b[0m\u001b[0mkwargs\u001b[0m\u001b[0;34m)\u001b[0m\u001b[0;34m\u001b[0m\u001b[0;34m\u001b[0m\u001b[0m\n\u001b[0m\u001b[1;32m     77\u001b[0m \u001b[0;34m\u001b[0m\u001b[0m\n\u001b[1;32m     78\u001b[0m \u001b[0;34m\u001b[0m\u001b[0m\n",
            "\u001b[0;32m/usr/local/lib/python3.8/dist-packages/requests/api.py\u001b[0m in \u001b[0;36mrequest\u001b[0;34m(method, url, **kwargs)\u001b[0m\n\u001b[1;32m     59\u001b[0m     \u001b[0;31m# cases, and look like a memory leak in others.\u001b[0m\u001b[0;34m\u001b[0m\u001b[0;34m\u001b[0m\u001b[0;34m\u001b[0m\u001b[0m\n\u001b[1;32m     60\u001b[0m     \u001b[0;32mwith\u001b[0m \u001b[0msessions\u001b[0m\u001b[0;34m.\u001b[0m\u001b[0mSession\u001b[0m\u001b[0;34m(\u001b[0m\u001b[0;34m)\u001b[0m \u001b[0;32mas\u001b[0m \u001b[0msession\u001b[0m\u001b[0;34m:\u001b[0m\u001b[0;34m\u001b[0m\u001b[0;34m\u001b[0m\u001b[0m\n\u001b[0;32m---> 61\u001b[0;31m         \u001b[0;32mreturn\u001b[0m \u001b[0msession\u001b[0m\u001b[0;34m.\u001b[0m\u001b[0mrequest\u001b[0m\u001b[0;34m(\u001b[0m\u001b[0mmethod\u001b[0m\u001b[0;34m=\u001b[0m\u001b[0mmethod\u001b[0m\u001b[0;34m,\u001b[0m \u001b[0murl\u001b[0m\u001b[0;34m=\u001b[0m\u001b[0murl\u001b[0m\u001b[0;34m,\u001b[0m \u001b[0;34m**\u001b[0m\u001b[0mkwargs\u001b[0m\u001b[0;34m)\u001b[0m\u001b[0;34m\u001b[0m\u001b[0;34m\u001b[0m\u001b[0m\n\u001b[0m\u001b[1;32m     62\u001b[0m \u001b[0;34m\u001b[0m\u001b[0m\n\u001b[1;32m     63\u001b[0m \u001b[0;34m\u001b[0m\u001b[0m\n",
            "\u001b[0;32m/usr/local/lib/python3.8/dist-packages/requests/sessions.py\u001b[0m in \u001b[0;36mrequest\u001b[0;34m(self, method, url, params, data, headers, cookies, files, auth, timeout, allow_redirects, proxies, hooks, stream, verify, cert, json)\u001b[0m\n\u001b[1;32m    528\u001b[0m         }\n\u001b[1;32m    529\u001b[0m         \u001b[0msend_kwargs\u001b[0m\u001b[0;34m.\u001b[0m\u001b[0mupdate\u001b[0m\u001b[0;34m(\u001b[0m\u001b[0msettings\u001b[0m\u001b[0;34m)\u001b[0m\u001b[0;34m\u001b[0m\u001b[0;34m\u001b[0m\u001b[0m\n\u001b[0;32m--> 530\u001b[0;31m         \u001b[0mresp\u001b[0m \u001b[0;34m=\u001b[0m \u001b[0mself\u001b[0m\u001b[0;34m.\u001b[0m\u001b[0msend\u001b[0m\u001b[0;34m(\u001b[0m\u001b[0mprep\u001b[0m\u001b[0;34m,\u001b[0m \u001b[0;34m**\u001b[0m\u001b[0msend_kwargs\u001b[0m\u001b[0;34m)\u001b[0m\u001b[0;34m\u001b[0m\u001b[0;34m\u001b[0m\u001b[0m\n\u001b[0m\u001b[1;32m    531\u001b[0m \u001b[0;34m\u001b[0m\u001b[0m\n\u001b[1;32m    532\u001b[0m         \u001b[0;32mreturn\u001b[0m \u001b[0mresp\u001b[0m\u001b[0;34m\u001b[0m\u001b[0;34m\u001b[0m\u001b[0m\n",
            "\u001b[0;32m/usr/local/lib/python3.8/dist-packages/requests/sessions.py\u001b[0m in \u001b[0;36msend\u001b[0;34m(self, request, **kwargs)\u001b[0m\n\u001b[1;32m    641\u001b[0m \u001b[0;34m\u001b[0m\u001b[0m\n\u001b[1;32m    642\u001b[0m         \u001b[0;31m# Send the request\u001b[0m\u001b[0;34m\u001b[0m\u001b[0;34m\u001b[0m\u001b[0;34m\u001b[0m\u001b[0m\n\u001b[0;32m--> 643\u001b[0;31m         \u001b[0mr\u001b[0m \u001b[0;34m=\u001b[0m \u001b[0madapter\u001b[0m\u001b[0;34m.\u001b[0m\u001b[0msend\u001b[0m\u001b[0;34m(\u001b[0m\u001b[0mrequest\u001b[0m\u001b[0;34m,\u001b[0m \u001b[0;34m**\u001b[0m\u001b[0mkwargs\u001b[0m\u001b[0;34m)\u001b[0m\u001b[0;34m\u001b[0m\u001b[0;34m\u001b[0m\u001b[0m\n\u001b[0m\u001b[1;32m    644\u001b[0m \u001b[0;34m\u001b[0m\u001b[0m\n\u001b[1;32m    645\u001b[0m         \u001b[0;31m# Total elapsed time of the request (approximately)\u001b[0m\u001b[0;34m\u001b[0m\u001b[0;34m\u001b[0m\u001b[0;34m\u001b[0m\u001b[0m\n",
            "\u001b[0;32m/usr/local/lib/python3.8/dist-packages/requests/adapters.py\u001b[0m in \u001b[0;36msend\u001b[0;34m(self, request, stream, timeout, verify, cert, proxies)\u001b[0m\n\u001b[1;32m    437\u001b[0m         \u001b[0;32mtry\u001b[0m\u001b[0;34m:\u001b[0m\u001b[0;34m\u001b[0m\u001b[0;34m\u001b[0m\u001b[0m\n\u001b[1;32m    438\u001b[0m             \u001b[0;32mif\u001b[0m \u001b[0;32mnot\u001b[0m \u001b[0mchunked\u001b[0m\u001b[0;34m:\u001b[0m\u001b[0;34m\u001b[0m\u001b[0;34m\u001b[0m\u001b[0m\n\u001b[0;32m--> 439\u001b[0;31m                 resp = conn.urlopen(\n\u001b[0m\u001b[1;32m    440\u001b[0m                     \u001b[0mmethod\u001b[0m\u001b[0;34m=\u001b[0m\u001b[0mrequest\u001b[0m\u001b[0;34m.\u001b[0m\u001b[0mmethod\u001b[0m\u001b[0;34m,\u001b[0m\u001b[0;34m\u001b[0m\u001b[0;34m\u001b[0m\u001b[0m\n\u001b[1;32m    441\u001b[0m                     \u001b[0murl\u001b[0m\u001b[0;34m=\u001b[0m\u001b[0murl\u001b[0m\u001b[0;34m,\u001b[0m\u001b[0;34m\u001b[0m\u001b[0;34m\u001b[0m\u001b[0m\n",
            "\u001b[0;32m/usr/local/lib/python3.8/dist-packages/urllib3/connectionpool.py\u001b[0m in \u001b[0;36murlopen\u001b[0;34m(self, method, url, body, headers, retries, redirect, assert_same_host, timeout, pool_timeout, release_conn, chunked, body_pos, **response_kw)\u001b[0m\n\u001b[1;32m    595\u001b[0m \u001b[0;34m\u001b[0m\u001b[0m\n\u001b[1;32m    596\u001b[0m             \u001b[0;31m# Make the request on the httplib connection object.\u001b[0m\u001b[0;34m\u001b[0m\u001b[0;34m\u001b[0m\u001b[0;34m\u001b[0m\u001b[0m\n\u001b[0;32m--> 597\u001b[0;31m             httplib_response = self._make_request(conn, method, url,\n\u001b[0m\u001b[1;32m    598\u001b[0m                                                   \u001b[0mtimeout\u001b[0m\u001b[0;34m=\u001b[0m\u001b[0mtimeout_obj\u001b[0m\u001b[0;34m,\u001b[0m\u001b[0;34m\u001b[0m\u001b[0;34m\u001b[0m\u001b[0m\n\u001b[1;32m    599\u001b[0m                                                   \u001b[0mbody\u001b[0m\u001b[0;34m=\u001b[0m\u001b[0mbody\u001b[0m\u001b[0;34m,\u001b[0m \u001b[0mheaders\u001b[0m\u001b[0;34m=\u001b[0m\u001b[0mheaders\u001b[0m\u001b[0;34m,\u001b[0m\u001b[0;34m\u001b[0m\u001b[0;34m\u001b[0m\u001b[0m\n",
            "\u001b[0;32m/usr/local/lib/python3.8/dist-packages/urllib3/connectionpool.py\u001b[0m in \u001b[0;36m_make_request\u001b[0;34m(self, conn, method, url, timeout, chunked, **httplib_request_kw)\u001b[0m\n\u001b[1;32m    352\u001b[0m             \u001b[0mconn\u001b[0m\u001b[0;34m.\u001b[0m\u001b[0mrequest_chunked\u001b[0m\u001b[0;34m(\u001b[0m\u001b[0mmethod\u001b[0m\u001b[0;34m,\u001b[0m \u001b[0murl\u001b[0m\u001b[0;34m,\u001b[0m \u001b[0;34m**\u001b[0m\u001b[0mhttplib_request_kw\u001b[0m\u001b[0;34m)\u001b[0m\u001b[0;34m\u001b[0m\u001b[0;34m\u001b[0m\u001b[0m\n\u001b[1;32m    353\u001b[0m         \u001b[0;32melse\u001b[0m\u001b[0;34m:\u001b[0m\u001b[0;34m\u001b[0m\u001b[0;34m\u001b[0m\u001b[0m\n\u001b[0;32m--> 354\u001b[0;31m             \u001b[0mconn\u001b[0m\u001b[0;34m.\u001b[0m\u001b[0mrequest\u001b[0m\u001b[0;34m(\u001b[0m\u001b[0mmethod\u001b[0m\u001b[0;34m,\u001b[0m \u001b[0murl\u001b[0m\u001b[0;34m,\u001b[0m \u001b[0;34m**\u001b[0m\u001b[0mhttplib_request_kw\u001b[0m\u001b[0;34m)\u001b[0m\u001b[0;34m\u001b[0m\u001b[0;34m\u001b[0m\u001b[0m\n\u001b[0m\u001b[1;32m    355\u001b[0m \u001b[0;34m\u001b[0m\u001b[0m\n\u001b[1;32m    356\u001b[0m         \u001b[0;31m# Reset the timeout for the recv() on the socket\u001b[0m\u001b[0;34m\u001b[0m\u001b[0;34m\u001b[0m\u001b[0;34m\u001b[0m\u001b[0m\n",
            "\u001b[0;32m/usr/lib/python3.8/http/client.py\u001b[0m in \u001b[0;36mrequest\u001b[0;34m(self, method, url, body, headers, encode_chunked)\u001b[0m\n\u001b[1;32m   1254\u001b[0m                 encode_chunked=False):\n\u001b[1;32m   1255\u001b[0m         \u001b[0;34m\"\"\"Send a complete request to the server.\"\"\"\u001b[0m\u001b[0;34m\u001b[0m\u001b[0;34m\u001b[0m\u001b[0m\n\u001b[0;32m-> 1256\u001b[0;31m         \u001b[0mself\u001b[0m\u001b[0;34m.\u001b[0m\u001b[0m_send_request\u001b[0m\u001b[0;34m(\u001b[0m\u001b[0mmethod\u001b[0m\u001b[0;34m,\u001b[0m \u001b[0murl\u001b[0m\u001b[0;34m,\u001b[0m \u001b[0mbody\u001b[0m\u001b[0;34m,\u001b[0m \u001b[0mheaders\u001b[0m\u001b[0;34m,\u001b[0m \u001b[0mencode_chunked\u001b[0m\u001b[0;34m)\u001b[0m\u001b[0;34m\u001b[0m\u001b[0;34m\u001b[0m\u001b[0m\n\u001b[0m\u001b[1;32m   1257\u001b[0m \u001b[0;34m\u001b[0m\u001b[0m\n\u001b[1;32m   1258\u001b[0m     \u001b[0;32mdef\u001b[0m \u001b[0m_send_request\u001b[0m\u001b[0;34m(\u001b[0m\u001b[0mself\u001b[0m\u001b[0;34m,\u001b[0m \u001b[0mmethod\u001b[0m\u001b[0;34m,\u001b[0m \u001b[0murl\u001b[0m\u001b[0;34m,\u001b[0m \u001b[0mbody\u001b[0m\u001b[0;34m,\u001b[0m \u001b[0mheaders\u001b[0m\u001b[0;34m,\u001b[0m \u001b[0mencode_chunked\u001b[0m\u001b[0;34m)\u001b[0m\u001b[0;34m:\u001b[0m\u001b[0;34m\u001b[0m\u001b[0;34m\u001b[0m\u001b[0m\n",
            "\u001b[0;32m/usr/lib/python3.8/http/client.py\u001b[0m in \u001b[0;36m_send_request\u001b[0;34m(self, method, url, body, headers, encode_chunked)\u001b[0m\n\u001b[1;32m   1295\u001b[0m \u001b[0;34m\u001b[0m\u001b[0m\n\u001b[1;32m   1296\u001b[0m         \u001b[0;32mfor\u001b[0m \u001b[0mhdr\u001b[0m\u001b[0;34m,\u001b[0m \u001b[0mvalue\u001b[0m \u001b[0;32min\u001b[0m \u001b[0mheaders\u001b[0m\u001b[0;34m.\u001b[0m\u001b[0mitems\u001b[0m\u001b[0;34m(\u001b[0m\u001b[0;34m)\u001b[0m\u001b[0;34m:\u001b[0m\u001b[0;34m\u001b[0m\u001b[0;34m\u001b[0m\u001b[0m\n\u001b[0;32m-> 1297\u001b[0;31m             \u001b[0mself\u001b[0m\u001b[0;34m.\u001b[0m\u001b[0mputheader\u001b[0m\u001b[0;34m(\u001b[0m\u001b[0mhdr\u001b[0m\u001b[0;34m,\u001b[0m \u001b[0mvalue\u001b[0m\u001b[0;34m)\u001b[0m\u001b[0;34m\u001b[0m\u001b[0;34m\u001b[0m\u001b[0m\n\u001b[0m\u001b[1;32m   1298\u001b[0m         \u001b[0;32mif\u001b[0m \u001b[0misinstance\u001b[0m\u001b[0;34m(\u001b[0m\u001b[0mbody\u001b[0m\u001b[0;34m,\u001b[0m \u001b[0mstr\u001b[0m\u001b[0;34m)\u001b[0m\u001b[0;34m:\u001b[0m\u001b[0;34m\u001b[0m\u001b[0;34m\u001b[0m\u001b[0m\n\u001b[1;32m   1299\u001b[0m             \u001b[0;31m# RFC 2616 Section 3.7.1 says that text default has a\u001b[0m\u001b[0;34m\u001b[0m\u001b[0;34m\u001b[0m\u001b[0;34m\u001b[0m\u001b[0m\n",
            "\u001b[0;32m/usr/lib/python3.8/http/client.py\u001b[0m in \u001b[0;36mputheader\u001b[0;34m(self, header, *values)\u001b[0m\n\u001b[1;32m   1227\u001b[0m         \u001b[0;32mfor\u001b[0m \u001b[0mi\u001b[0m\u001b[0;34m,\u001b[0m \u001b[0mone_value\u001b[0m \u001b[0;32min\u001b[0m \u001b[0menumerate\u001b[0m\u001b[0;34m(\u001b[0m\u001b[0mvalues\u001b[0m\u001b[0;34m)\u001b[0m\u001b[0;34m:\u001b[0m\u001b[0;34m\u001b[0m\u001b[0;34m\u001b[0m\u001b[0m\n\u001b[1;32m   1228\u001b[0m             \u001b[0;32mif\u001b[0m \u001b[0mhasattr\u001b[0m\u001b[0;34m(\u001b[0m\u001b[0mone_value\u001b[0m\u001b[0;34m,\u001b[0m \u001b[0;34m'encode'\u001b[0m\u001b[0;34m)\u001b[0m\u001b[0;34m:\u001b[0m\u001b[0;34m\u001b[0m\u001b[0;34m\u001b[0m\u001b[0m\n\u001b[0;32m-> 1229\u001b[0;31m                 \u001b[0mvalues\u001b[0m\u001b[0;34m[\u001b[0m\u001b[0mi\u001b[0m\u001b[0;34m]\u001b[0m \u001b[0;34m=\u001b[0m \u001b[0mone_value\u001b[0m\u001b[0;34m.\u001b[0m\u001b[0mencode\u001b[0m\u001b[0;34m(\u001b[0m\u001b[0;34m'latin-1'\u001b[0m\u001b[0;34m)\u001b[0m\u001b[0;34m\u001b[0m\u001b[0;34m\u001b[0m\u001b[0m\n\u001b[0m\u001b[1;32m   1230\u001b[0m             \u001b[0;32melif\u001b[0m \u001b[0misinstance\u001b[0m\u001b[0;34m(\u001b[0m\u001b[0mone_value\u001b[0m\u001b[0;34m,\u001b[0m \u001b[0mint\u001b[0m\u001b[0;34m)\u001b[0m\u001b[0;34m:\u001b[0m\u001b[0;34m\u001b[0m\u001b[0;34m\u001b[0m\u001b[0m\n\u001b[1;32m   1231\u001b[0m                 \u001b[0mvalues\u001b[0m\u001b[0;34m[\u001b[0m\u001b[0mi\u001b[0m\u001b[0;34m]\u001b[0m \u001b[0;34m=\u001b[0m \u001b[0mstr\u001b[0m\u001b[0;34m(\u001b[0m\u001b[0mone_value\u001b[0m\u001b[0;34m)\u001b[0m\u001b[0;34m.\u001b[0m\u001b[0mencode\u001b[0m\u001b[0;34m(\u001b[0m\u001b[0;34m'ascii'\u001b[0m\u001b[0;34m)\u001b[0m\u001b[0;34m\u001b[0m\u001b[0;34m\u001b[0m\u001b[0m\n",
            "\u001b[0;31mUnicodeEncodeError\u001b[0m: 'latin-1' codec can't encode character '\\u201d' in position 63: ordinal not in range(256)"
          ]
        }
      ]
    },
    {
      "cell_type": "code",
      "source": [
        "resp"
      ],
      "metadata": {
        "colab": {
          "base_uri": "https://localhost:8080/"
        },
        "id": "y-TbG1P2OCx-",
        "outputId": "be03e011-d49f-447f-9319-d6c7f92840f4"
      },
      "execution_count": 12,
      "outputs": [
        {
          "output_type": "execute_result",
          "data": {
            "text/plain": [
              "<Response [403]>"
            ]
          },
          "metadata": {},
          "execution_count": 12
        }
      ]
    },
    {
      "cell_type": "code",
      "source": [
        "resp.content"
      ],
      "metadata": {
        "colab": {
          "base_uri": "https://localhost:8080/"
        },
        "id": "HUYnm5WfOE3V",
        "outputId": "18538962-803d-4a7b-959f-dce81a002ef2"
      },
      "execution_count": 13,
      "outputs": [
        {
          "output_type": "execute_result",
          "data": {
            "text/plain": [
              "b'{\"redirect_to\":\"\\\\/sttc\\\\/px\\\\/captcha-v2\\\\/index.html?url=Lw==&uuid=958f709d-7585-11ed-bd2b-6653564f5850&vid=\",\"reason\":\"blocked\"}\\n'"
            ]
          },
          "metadata": {},
          "execution_count": 13
        }
      ]
    },
    {
      "cell_type": "code",
      "source": [
        "####Yahoo Finance"
      ],
      "metadata": {
        "id": "07p-nnqKZPCa"
      },
      "execution_count": 166,
      "outputs": []
    },
    {
      "cell_type": "code",
      "source": [
        "from bs4 import BeautifulSoup\n",
        "import pandas as pd\n",
        "import requests"
      ],
      "metadata": {
        "id": "tUEjRun6q7gC"
      },
      "execution_count": 167,
      "outputs": []
    },
    {
      "cell_type": "code",
      "source": [
        "url = 'https://finance.yahoo.com/mutualfunds'\n",
        "resp=requests.get(url)\n",
        "resp"
      ],
      "metadata": {
        "colab": {
          "base_uri": "https://localhost:8080/"
        },
        "id": "3wabtWJZq3VO",
        "outputId": "f278d4c1-e0e9-4588-e14a-3d0fccfcf58d"
      },
      "execution_count": 168,
      "outputs": [
        {
          "output_type": "execute_result",
          "data": {
            "text/plain": [
              "<Response [200]>"
            ]
          },
          "metadata": {},
          "execution_count": 168
        }
      ]
    },
    {
      "cell_type": "code",
      "source": [
        "resp.text[:500]"
      ],
      "metadata": {
        "colab": {
          "base_uri": "https://localhost:8080/",
          "height": 70
        },
        "id": "Kn0OPMcxq_A-",
        "outputId": "b2d88a3b-d150-4e8a-e08f-bd4549d6ed1b"
      },
      "execution_count": 169,
      "outputs": [
        {
          "output_type": "execute_result",
          "data": {
            "text/plain": [
              "'<!doctype html><html data-color-theme=\"light\" id=\"atomic\" class=\"NoJs chrome desktop failsafe\" lang=\"en-US\"><head prefix=\"og: https://ogp.me/ns#\"><script>window.performance && window.performance.mark && window.performance.mark(\\'PageStart\\');</script><meta charset=\"utf-8\"><title>Top Mutual Funds Today - Yahoo Finance</title><meta name=\"keywords\" content=\"Mutual Fund Screener, industry, index membership, share data, mutual fund price, market cap, beta, sales, profitability, valuation ratios, analys'"
            ],
            "application/vnd.google.colaboratory.intrinsic+json": {
              "type": "string"
            }
          },
          "metadata": {},
          "execution_count": 169
        }
      ]
    },
    {
      "cell_type": "code",
      "source": [
        "page_content = resp.text\n",
        "doc = BeautifulSoup(page_content, 'lxml')"
      ],
      "metadata": {
        "id": "QYPbEaS1sODh"
      },
      "execution_count": 170,
      "outputs": []
    },
    {
      "cell_type": "code",
      "source": [
        "doc"
      ],
      "metadata": {
        "id": "sTy51XpJtzJ4"
      },
      "execution_count": null,
      "outputs": []
    },
    {
      "cell_type": "code",
      "source": [
        "x = doc.find('table', attrs={\"class\":\"W(100%)\"})"
      ],
      "metadata": {
        "id": "WMs0ZaPkuJFi"
      },
      "execution_count": 199,
      "outputs": []
    },
    {
      "cell_type": "code",
      "source": [
        "len(x)"
      ],
      "metadata": {
        "colab": {
          "base_uri": "https://localhost:8080/"
        },
        "id": "SZzR7OWv-lN0",
        "outputId": "8a2b6fe0-a4c4-4778-f451-a70bf7c7bf60"
      },
      "execution_count": 200,
      "outputs": [
        {
          "output_type": "execute_result",
          "data": {
            "text/plain": [
              "2"
            ]
          },
          "metadata": {},
          "execution_count": 200
        }
      ]
    },
    {
      "cell_type": "code",
      "source": [
        "x"
      ],
      "metadata": {
        "id": "a5SfuyUiGHo6"
      },
      "execution_count": null,
      "outputs": []
    },
    {
      "cell_type": "code",
      "source": [
        "len(x.find_all(\"tr\"))"
      ],
      "metadata": {
        "colab": {
          "base_uri": "https://localhost:8080/"
        },
        "id": "CrpXEpbYJ2hD",
        "outputId": "c91219c1-bfe6-4715-8523-237786d89a5f"
      },
      "execution_count": 203,
      "outputs": [
        {
          "output_type": "execute_result",
          "data": {
            "text/plain": [
              "26"
            ]
          },
          "metadata": {},
          "execution_count": 203
        }
      ]
    },
    {
      "cell_type": "code",
      "source": [
        "header = []\n",
        "for i in x.find_all(\"th\"):\n",
        "  t = i.text\n",
        "  header.append(t)\n",
        "header"
      ],
      "metadata": {
        "colab": {
          "base_uri": "https://localhost:8080/"
        },
        "id": "LnEZ73zrKCku",
        "outputId": "a79393ba-3795-4268-f5ed-bd7d2e41f502"
      },
      "execution_count": 204,
      "outputs": [
        {
          "output_type": "execute_result",
          "data": {
            "text/plain": [
              "['Symbol',\n",
              " 'Name',\n",
              " 'Change',\n",
              " '% Change',\n",
              " 'Price (Intraday)',\n",
              " '50 Day Average',\n",
              " '200 Day Average',\n",
              " '3-Mo Return',\n",
              " 'YTD Return',\n",
              " '52 Week Range']"
            ]
          },
          "metadata": {},
          "execution_count": 204
        }
      ]
    },
    {
      "cell_type": "code",
      "source": [
        "df = pd.DataFrame(columns=header)\n",
        "df"
      ],
      "metadata": {
        "colab": {
          "base_uri": "https://localhost:8080/",
          "height": 49
        },
        "id": "3_L5ef1kKUMN",
        "outputId": "3bb7f5f5-6517-44eb-fb11-6e15ed68492f"
      },
      "execution_count": 206,
      "outputs": [
        {
          "output_type": "execute_result",
          "data": {
            "text/plain": [
              "Empty DataFrame\n",
              "Columns: [Symbol, Name, Change, % Change, Price (Intraday), 50 Day Average, 200 Day Average, 3-Mo Return, YTD Return, 52 Week Range]\n",
              "Index: []"
            ],
            "text/html": [
              "\n",
              "  <div id=\"df-dc123cd0-22dc-4650-9837-1c027199c193\">\n",
              "    <div class=\"colab-df-container\">\n",
              "      <div>\n",
              "<style scoped>\n",
              "    .dataframe tbody tr th:only-of-type {\n",
              "        vertical-align: middle;\n",
              "    }\n",
              "\n",
              "    .dataframe tbody tr th {\n",
              "        vertical-align: top;\n",
              "    }\n",
              "\n",
              "    .dataframe thead th {\n",
              "        text-align: right;\n",
              "    }\n",
              "</style>\n",
              "<table border=\"1\" class=\"dataframe\">\n",
              "  <thead>\n",
              "    <tr style=\"text-align: right;\">\n",
              "      <th></th>\n",
              "      <th>Symbol</th>\n",
              "      <th>Name</th>\n",
              "      <th>Change</th>\n",
              "      <th>% Change</th>\n",
              "      <th>Price (Intraday)</th>\n",
              "      <th>50 Day Average</th>\n",
              "      <th>200 Day Average</th>\n",
              "      <th>3-Mo Return</th>\n",
              "      <th>YTD Return</th>\n",
              "      <th>52 Week Range</th>\n",
              "    </tr>\n",
              "  </thead>\n",
              "  <tbody>\n",
              "  </tbody>\n",
              "</table>\n",
              "</div>\n",
              "      <button class=\"colab-df-convert\" onclick=\"convertToInteractive('df-dc123cd0-22dc-4650-9837-1c027199c193')\"\n",
              "              title=\"Convert this dataframe to an interactive table.\"\n",
              "              style=\"display:none;\">\n",
              "        \n",
              "  <svg xmlns=\"http://www.w3.org/2000/svg\" height=\"24px\"viewBox=\"0 0 24 24\"\n",
              "       width=\"24px\">\n",
              "    <path d=\"M0 0h24v24H0V0z\" fill=\"none\"/>\n",
              "    <path d=\"M18.56 5.44l.94 2.06.94-2.06 2.06-.94-2.06-.94-.94-2.06-.94 2.06-2.06.94zm-11 1L8.5 8.5l.94-2.06 2.06-.94-2.06-.94L8.5 2.5l-.94 2.06-2.06.94zm10 10l.94 2.06.94-2.06 2.06-.94-2.06-.94-.94-2.06-.94 2.06-2.06.94z\"/><path d=\"M17.41 7.96l-1.37-1.37c-.4-.4-.92-.59-1.43-.59-.52 0-1.04.2-1.43.59L10.3 9.45l-7.72 7.72c-.78.78-.78 2.05 0 2.83L4 21.41c.39.39.9.59 1.41.59.51 0 1.02-.2 1.41-.59l7.78-7.78 2.81-2.81c.8-.78.8-2.07 0-2.86zM5.41 20L4 18.59l7.72-7.72 1.47 1.35L5.41 20z\"/>\n",
              "  </svg>\n",
              "      </button>\n",
              "      \n",
              "  <style>\n",
              "    .colab-df-container {\n",
              "      display:flex;\n",
              "      flex-wrap:wrap;\n",
              "      gap: 12px;\n",
              "    }\n",
              "\n",
              "    .colab-df-convert {\n",
              "      background-color: #E8F0FE;\n",
              "      border: none;\n",
              "      border-radius: 50%;\n",
              "      cursor: pointer;\n",
              "      display: none;\n",
              "      fill: #1967D2;\n",
              "      height: 32px;\n",
              "      padding: 0 0 0 0;\n",
              "      width: 32px;\n",
              "    }\n",
              "\n",
              "    .colab-df-convert:hover {\n",
              "      background-color: #E2EBFA;\n",
              "      box-shadow: 0px 1px 2px rgba(60, 64, 67, 0.3), 0px 1px 3px 1px rgba(60, 64, 67, 0.15);\n",
              "      fill: #174EA6;\n",
              "    }\n",
              "\n",
              "    [theme=dark] .colab-df-convert {\n",
              "      background-color: #3B4455;\n",
              "      fill: #D2E3FC;\n",
              "    }\n",
              "\n",
              "    [theme=dark] .colab-df-convert:hover {\n",
              "      background-color: #434B5C;\n",
              "      box-shadow: 0px 1px 3px 1px rgba(0, 0, 0, 0.15);\n",
              "      filter: drop-shadow(0px 1px 2px rgba(0, 0, 0, 0.3));\n",
              "      fill: #FFFFFF;\n",
              "    }\n",
              "  </style>\n",
              "\n",
              "      <script>\n",
              "        const buttonEl =\n",
              "          document.querySelector('#df-dc123cd0-22dc-4650-9837-1c027199c193 button.colab-df-convert');\n",
              "        buttonEl.style.display =\n",
              "          google.colab.kernel.accessAllowed ? 'block' : 'none';\n",
              "\n",
              "        async function convertToInteractive(key) {\n",
              "          const element = document.querySelector('#df-dc123cd0-22dc-4650-9837-1c027199c193');\n",
              "          const dataTable =\n",
              "            await google.colab.kernel.invokeFunction('convertToInteractive',\n",
              "                                                     [key], {});\n",
              "          if (!dataTable) return;\n",
              "\n",
              "          const docLinkHtml = 'Like what you see? Visit the ' +\n",
              "            '<a target=\"_blank\" href=https://colab.research.google.com/notebooks/data_table.ipynb>data table notebook</a>'\n",
              "            + ' to learn more about interactive tables.';\n",
              "          element.innerHTML = '';\n",
              "          dataTable['output_type'] = 'display_data';\n",
              "          await google.colab.output.renderOutput(dataTable, element);\n",
              "          const docLink = document.createElement('div');\n",
              "          docLink.innerHTML = docLinkHtml;\n",
              "          element.appendChild(docLink);\n",
              "        }\n",
              "      </script>\n",
              "    </div>\n",
              "  </div>\n",
              "  "
            ]
          },
          "metadata": {},
          "execution_count": 206
        }
      ]
    },
    {
      "cell_type": "code",
      "source": [
        "for y in x.find_all(\"tr\")[1:]:\n",
        "  r1 = y.find_all('td')\n",
        "  r2 = [i.text for i in r1]\n",
        "  length = len(df)\n",
        "  df.loc[length] = r2"
      ],
      "metadata": {
        "id": "E0YuqTm1KbFB"
      },
      "execution_count": 207,
      "outputs": []
    },
    {
      "cell_type": "code",
      "source": [
        "df"
      ],
      "metadata": {
        "colab": {
          "base_uri": "https://localhost:8080/",
          "height": 833
        },
        "id": "W-UWIcQELAe8",
        "outputId": "592b68f2-440a-4360-896f-e16084a85300"
      },
      "execution_count": 208,
      "outputs": [
        {
          "output_type": "execute_result",
          "data": {
            "text/plain": [
              "   Symbol                                               Name Change % Change  \\\n",
              "0   MIMFX                   AMG Veritas China Fund - Class I  +0.38   +2.15%   \n",
              "1   MMCFX                   AMG Veritas China Fund - Class N  +0.35   +2.09%   \n",
              "2   MICFX                    Matthews China Fund Insti Class  +0.30   +1.97%   \n",
              "3   MCHFX                 Matthews China Fund Investor Class  +0.30   +1.96%   \n",
              "4   MSMLX  Matthews Emerging Markets Small Companies Fund...  +0.47   +1.85%   \n",
              "5   MISMX  Matthews Emerging Markets Small Companies Fund...  +0.47   +1.85%   \n",
              "6   JMIGX           Jacob Discovery Fund Institutional Class  +0.29   +1.26%   \n",
              "7   JMCGX                Jacob Discovery Fund Investor Class  +0.25   +1.21%   \n",
              "8   SSETX           BNY Mellon Small Cap Growth Fund Class I  +0.40   +1.19%   \n",
              "9   SSYGX           BNY Mellon Small Cap Growth Fund Class Y  +0.40   +1.18%   \n",
              "10  DVSMX  Driehaus Small Cap Growth Fund Investor Share ...  +0.18   +1.07%   \n",
              "11  LSHUX  Kinetics Spin-off and Corporate Restructuring ...  +0.29   +1.06%   \n",
              "12  KNPYX  Kinetics Mutual Fds, Inc. The Paradigm Fd Inst...  +1.09   +1.06%   \n",
              "13  KNPAX  Kinetics Mutual Funds, Paradigm Fund Advisor C...  +1.03   +1.05%   \n",
              "14  LSHEX  Kinetics Spin-off and Corporate Restructuring ...  +0.30   +1.05%   \n",
              "15  DNSMX  Driehaus Small Cap Growth Fund Institutional S...  +0.18   +1.05%   \n",
              "16  WWNPX     Kinetics Mutual Funds, Inc., The Paradigm Fund  +1.07   +1.05%   \n",
              "17  KNPCX  Kinetics Mutual Funds, The Paradigm Fund Advis...  +0.93   +1.05%   \n",
              "18  KMKYX  Kinetics Mutual Fds, The Market Opportunities ...  +0.52   +1.05%   \n",
              "19  KMKNX              The Market Opportunities Fund No Load  +0.51   +1.04%   \n",
              "20  KMKAX      The Market Opportunities Fund Advisor Class A  +0.50   +1.04%   \n",
              "21  LSHCX  Kinetics Spin-off and Corporate Restructuring ...  +0.26   +1.04%   \n",
              "22  KMKCX  Kinetics Mutual Fds, Market Opportunities Fd A...  +0.47   +1.03%   \n",
              "23  LSHAX  Kinetics Spin-off and Corporate Restructuring ...  +0.28   +1.03%   \n",
              "24  KSOAX  The Small Cap Opportunities Fd Adv Cl A a seri...  +1.30   +0.98%   \n",
              "\n",
              "   Price (Intraday) 50 Day Average 200 Day Average 3-Mo Return YTD Return  \\\n",
              "0             17.64          16.77           18.75     -19.32%    -33.80%   \n",
              "1             16.74          15.91           17.80     -19.97%    -19.97%   \n",
              "2             15.25          13.35           15.31     -18.09%    -38.24%   \n",
              "3             15.27          13.37           15.34     -20.26%    -20.26%   \n",
              "4             25.44          23.44           24.87     -11.13%    -11.13%   \n",
              "5             25.46          23.45           24.86      -6.95%    -21.09%   \n",
              "6             22.97          22.74           25.69     -16.34%    -16.34%   \n",
              "7             20.72          20.51           23.19     -11.39%    -44.23%   \n",
              "8             33.67          32.20           33.66     -11.72%    -11.72%   \n",
              "9             33.77          32.30           33.76     -11.06%    -29.27%   \n",
              "10            16.82          16.17           16.83      -7.35%    -33.16%   \n",
              "11            27.42          24.94           21.14      29.74%     49.62%   \n",
              "12           103.24          93.76           81.12       2.85%      2.85%   \n",
              "13            97.75          88.81           76.93      27.56%     38.68%   \n",
              "14            28.55          25.97           22.02      29.67%     49.32%   \n",
              "15            17.14          16.47           17.13     -19.34%    -19.34%   \n",
              "16           102.06          92.71           80.25      27.63%     38.97%   \n",
              "17            88.80          80.72           70.01      27.40%     38.08%   \n",
              "18            49.74          46.14           41.75      21.86%     22.33%   \n",
              "19            48.89          45.35           41.06      21.77%     22.14%   \n",
              "20            48.02          44.56           40.37       1.72%      1.72%   \n",
              "21            25.02          22.78           19.36      29.39%     48.32%   \n",
              "22            45.60          42.33           38.41      21.56%     21.37%   \n",
              "23            27.18          24.72           20.97       4.32%      4.32%   \n",
              "24           132.11         121.29          107.50      22.88%     38.47%   \n",
              "\n",
              "   52 Week Range  \n",
              "0                 \n",
              "1                 \n",
              "2                 \n",
              "3                 \n",
              "4                 \n",
              "5                 \n",
              "6                 \n",
              "7                 \n",
              "8                 \n",
              "9                 \n",
              "10                \n",
              "11                \n",
              "12                \n",
              "13                \n",
              "14                \n",
              "15                \n",
              "16                \n",
              "17                \n",
              "18                \n",
              "19                \n",
              "20                \n",
              "21                \n",
              "22                \n",
              "23                \n",
              "24                "
            ],
            "text/html": [
              "\n",
              "  <div id=\"df-934baa50-637a-4a93-81a2-a3ffed639be5\">\n",
              "    <div class=\"colab-df-container\">\n",
              "      <div>\n",
              "<style scoped>\n",
              "    .dataframe tbody tr th:only-of-type {\n",
              "        vertical-align: middle;\n",
              "    }\n",
              "\n",
              "    .dataframe tbody tr th {\n",
              "        vertical-align: top;\n",
              "    }\n",
              "\n",
              "    .dataframe thead th {\n",
              "        text-align: right;\n",
              "    }\n",
              "</style>\n",
              "<table border=\"1\" class=\"dataframe\">\n",
              "  <thead>\n",
              "    <tr style=\"text-align: right;\">\n",
              "      <th></th>\n",
              "      <th>Symbol</th>\n",
              "      <th>Name</th>\n",
              "      <th>Change</th>\n",
              "      <th>% Change</th>\n",
              "      <th>Price (Intraday)</th>\n",
              "      <th>50 Day Average</th>\n",
              "      <th>200 Day Average</th>\n",
              "      <th>3-Mo Return</th>\n",
              "      <th>YTD Return</th>\n",
              "      <th>52 Week Range</th>\n",
              "    </tr>\n",
              "  </thead>\n",
              "  <tbody>\n",
              "    <tr>\n",
              "      <th>0</th>\n",
              "      <td>MIMFX</td>\n",
              "      <td>AMG Veritas China Fund - Class I</td>\n",
              "      <td>+0.38</td>\n",
              "      <td>+2.15%</td>\n",
              "      <td>17.64</td>\n",
              "      <td>16.77</td>\n",
              "      <td>18.75</td>\n",
              "      <td>-19.32%</td>\n",
              "      <td>-33.80%</td>\n",
              "      <td></td>\n",
              "    </tr>\n",
              "    <tr>\n",
              "      <th>1</th>\n",
              "      <td>MMCFX</td>\n",
              "      <td>AMG Veritas China Fund - Class N</td>\n",
              "      <td>+0.35</td>\n",
              "      <td>+2.09%</td>\n",
              "      <td>16.74</td>\n",
              "      <td>15.91</td>\n",
              "      <td>17.80</td>\n",
              "      <td>-19.97%</td>\n",
              "      <td>-19.97%</td>\n",
              "      <td></td>\n",
              "    </tr>\n",
              "    <tr>\n",
              "      <th>2</th>\n",
              "      <td>MICFX</td>\n",
              "      <td>Matthews China Fund Insti Class</td>\n",
              "      <td>+0.30</td>\n",
              "      <td>+1.97%</td>\n",
              "      <td>15.25</td>\n",
              "      <td>13.35</td>\n",
              "      <td>15.31</td>\n",
              "      <td>-18.09%</td>\n",
              "      <td>-38.24%</td>\n",
              "      <td></td>\n",
              "    </tr>\n",
              "    <tr>\n",
              "      <th>3</th>\n",
              "      <td>MCHFX</td>\n",
              "      <td>Matthews China Fund Investor Class</td>\n",
              "      <td>+0.30</td>\n",
              "      <td>+1.96%</td>\n",
              "      <td>15.27</td>\n",
              "      <td>13.37</td>\n",
              "      <td>15.34</td>\n",
              "      <td>-20.26%</td>\n",
              "      <td>-20.26%</td>\n",
              "      <td></td>\n",
              "    </tr>\n",
              "    <tr>\n",
              "      <th>4</th>\n",
              "      <td>MSMLX</td>\n",
              "      <td>Matthews Emerging Markets Small Companies Fund...</td>\n",
              "      <td>+0.47</td>\n",
              "      <td>+1.85%</td>\n",
              "      <td>25.44</td>\n",
              "      <td>23.44</td>\n",
              "      <td>24.87</td>\n",
              "      <td>-11.13%</td>\n",
              "      <td>-11.13%</td>\n",
              "      <td></td>\n",
              "    </tr>\n",
              "    <tr>\n",
              "      <th>5</th>\n",
              "      <td>MISMX</td>\n",
              "      <td>Matthews Emerging Markets Small Companies Fund...</td>\n",
              "      <td>+0.47</td>\n",
              "      <td>+1.85%</td>\n",
              "      <td>25.46</td>\n",
              "      <td>23.45</td>\n",
              "      <td>24.86</td>\n",
              "      <td>-6.95%</td>\n",
              "      <td>-21.09%</td>\n",
              "      <td></td>\n",
              "    </tr>\n",
              "    <tr>\n",
              "      <th>6</th>\n",
              "      <td>JMIGX</td>\n",
              "      <td>Jacob Discovery Fund Institutional Class</td>\n",
              "      <td>+0.29</td>\n",
              "      <td>+1.26%</td>\n",
              "      <td>22.97</td>\n",
              "      <td>22.74</td>\n",
              "      <td>25.69</td>\n",
              "      <td>-16.34%</td>\n",
              "      <td>-16.34%</td>\n",
              "      <td></td>\n",
              "    </tr>\n",
              "    <tr>\n",
              "      <th>7</th>\n",
              "      <td>JMCGX</td>\n",
              "      <td>Jacob Discovery Fund Investor Class</td>\n",
              "      <td>+0.25</td>\n",
              "      <td>+1.21%</td>\n",
              "      <td>20.72</td>\n",
              "      <td>20.51</td>\n",
              "      <td>23.19</td>\n",
              "      <td>-11.39%</td>\n",
              "      <td>-44.23%</td>\n",
              "      <td></td>\n",
              "    </tr>\n",
              "    <tr>\n",
              "      <th>8</th>\n",
              "      <td>SSETX</td>\n",
              "      <td>BNY Mellon Small Cap Growth Fund Class I</td>\n",
              "      <td>+0.40</td>\n",
              "      <td>+1.19%</td>\n",
              "      <td>33.67</td>\n",
              "      <td>32.20</td>\n",
              "      <td>33.66</td>\n",
              "      <td>-11.72%</td>\n",
              "      <td>-11.72%</td>\n",
              "      <td></td>\n",
              "    </tr>\n",
              "    <tr>\n",
              "      <th>9</th>\n",
              "      <td>SSYGX</td>\n",
              "      <td>BNY Mellon Small Cap Growth Fund Class Y</td>\n",
              "      <td>+0.40</td>\n",
              "      <td>+1.18%</td>\n",
              "      <td>33.77</td>\n",
              "      <td>32.30</td>\n",
              "      <td>33.76</td>\n",
              "      <td>-11.06%</td>\n",
              "      <td>-29.27%</td>\n",
              "      <td></td>\n",
              "    </tr>\n",
              "    <tr>\n",
              "      <th>10</th>\n",
              "      <td>DVSMX</td>\n",
              "      <td>Driehaus Small Cap Growth Fund Investor Share ...</td>\n",
              "      <td>+0.18</td>\n",
              "      <td>+1.07%</td>\n",
              "      <td>16.82</td>\n",
              "      <td>16.17</td>\n",
              "      <td>16.83</td>\n",
              "      <td>-7.35%</td>\n",
              "      <td>-33.16%</td>\n",
              "      <td></td>\n",
              "    </tr>\n",
              "    <tr>\n",
              "      <th>11</th>\n",
              "      <td>LSHUX</td>\n",
              "      <td>Kinetics Spin-off and Corporate Restructuring ...</td>\n",
              "      <td>+0.29</td>\n",
              "      <td>+1.06%</td>\n",
              "      <td>27.42</td>\n",
              "      <td>24.94</td>\n",
              "      <td>21.14</td>\n",
              "      <td>29.74%</td>\n",
              "      <td>49.62%</td>\n",
              "      <td></td>\n",
              "    </tr>\n",
              "    <tr>\n",
              "      <th>12</th>\n",
              "      <td>KNPYX</td>\n",
              "      <td>Kinetics Mutual Fds, Inc. The Paradigm Fd Inst...</td>\n",
              "      <td>+1.09</td>\n",
              "      <td>+1.06%</td>\n",
              "      <td>103.24</td>\n",
              "      <td>93.76</td>\n",
              "      <td>81.12</td>\n",
              "      <td>2.85%</td>\n",
              "      <td>2.85%</td>\n",
              "      <td></td>\n",
              "    </tr>\n",
              "    <tr>\n",
              "      <th>13</th>\n",
              "      <td>KNPAX</td>\n",
              "      <td>Kinetics Mutual Funds, Paradigm Fund Advisor C...</td>\n",
              "      <td>+1.03</td>\n",
              "      <td>+1.05%</td>\n",
              "      <td>97.75</td>\n",
              "      <td>88.81</td>\n",
              "      <td>76.93</td>\n",
              "      <td>27.56%</td>\n",
              "      <td>38.68%</td>\n",
              "      <td></td>\n",
              "    </tr>\n",
              "    <tr>\n",
              "      <th>14</th>\n",
              "      <td>LSHEX</td>\n",
              "      <td>Kinetics Spin-off and Corporate Restructuring ...</td>\n",
              "      <td>+0.30</td>\n",
              "      <td>+1.05%</td>\n",
              "      <td>28.55</td>\n",
              "      <td>25.97</td>\n",
              "      <td>22.02</td>\n",
              "      <td>29.67%</td>\n",
              "      <td>49.32%</td>\n",
              "      <td></td>\n",
              "    </tr>\n",
              "    <tr>\n",
              "      <th>15</th>\n",
              "      <td>DNSMX</td>\n",
              "      <td>Driehaus Small Cap Growth Fund Institutional S...</td>\n",
              "      <td>+0.18</td>\n",
              "      <td>+1.05%</td>\n",
              "      <td>17.14</td>\n",
              "      <td>16.47</td>\n",
              "      <td>17.13</td>\n",
              "      <td>-19.34%</td>\n",
              "      <td>-19.34%</td>\n",
              "      <td></td>\n",
              "    </tr>\n",
              "    <tr>\n",
              "      <th>16</th>\n",
              "      <td>WWNPX</td>\n",
              "      <td>Kinetics Mutual Funds, Inc., The Paradigm Fund</td>\n",
              "      <td>+1.07</td>\n",
              "      <td>+1.05%</td>\n",
              "      <td>102.06</td>\n",
              "      <td>92.71</td>\n",
              "      <td>80.25</td>\n",
              "      <td>27.63%</td>\n",
              "      <td>38.97%</td>\n",
              "      <td></td>\n",
              "    </tr>\n",
              "    <tr>\n",
              "      <th>17</th>\n",
              "      <td>KNPCX</td>\n",
              "      <td>Kinetics Mutual Funds, The Paradigm Fund Advis...</td>\n",
              "      <td>+0.93</td>\n",
              "      <td>+1.05%</td>\n",
              "      <td>88.80</td>\n",
              "      <td>80.72</td>\n",
              "      <td>70.01</td>\n",
              "      <td>27.40%</td>\n",
              "      <td>38.08%</td>\n",
              "      <td></td>\n",
              "    </tr>\n",
              "    <tr>\n",
              "      <th>18</th>\n",
              "      <td>KMKYX</td>\n",
              "      <td>Kinetics Mutual Fds, The Market Opportunities ...</td>\n",
              "      <td>+0.52</td>\n",
              "      <td>+1.05%</td>\n",
              "      <td>49.74</td>\n",
              "      <td>46.14</td>\n",
              "      <td>41.75</td>\n",
              "      <td>21.86%</td>\n",
              "      <td>22.33%</td>\n",
              "      <td></td>\n",
              "    </tr>\n",
              "    <tr>\n",
              "      <th>19</th>\n",
              "      <td>KMKNX</td>\n",
              "      <td>The Market Opportunities Fund No Load</td>\n",
              "      <td>+0.51</td>\n",
              "      <td>+1.04%</td>\n",
              "      <td>48.89</td>\n",
              "      <td>45.35</td>\n",
              "      <td>41.06</td>\n",
              "      <td>21.77%</td>\n",
              "      <td>22.14%</td>\n",
              "      <td></td>\n",
              "    </tr>\n",
              "    <tr>\n",
              "      <th>20</th>\n",
              "      <td>KMKAX</td>\n",
              "      <td>The Market Opportunities Fund Advisor Class A</td>\n",
              "      <td>+0.50</td>\n",
              "      <td>+1.04%</td>\n",
              "      <td>48.02</td>\n",
              "      <td>44.56</td>\n",
              "      <td>40.37</td>\n",
              "      <td>1.72%</td>\n",
              "      <td>1.72%</td>\n",
              "      <td></td>\n",
              "    </tr>\n",
              "    <tr>\n",
              "      <th>21</th>\n",
              "      <td>LSHCX</td>\n",
              "      <td>Kinetics Spin-off and Corporate Restructuring ...</td>\n",
              "      <td>+0.26</td>\n",
              "      <td>+1.04%</td>\n",
              "      <td>25.02</td>\n",
              "      <td>22.78</td>\n",
              "      <td>19.36</td>\n",
              "      <td>29.39%</td>\n",
              "      <td>48.32%</td>\n",
              "      <td></td>\n",
              "    </tr>\n",
              "    <tr>\n",
              "      <th>22</th>\n",
              "      <td>KMKCX</td>\n",
              "      <td>Kinetics Mutual Fds, Market Opportunities Fd A...</td>\n",
              "      <td>+0.47</td>\n",
              "      <td>+1.03%</td>\n",
              "      <td>45.60</td>\n",
              "      <td>42.33</td>\n",
              "      <td>38.41</td>\n",
              "      <td>21.56%</td>\n",
              "      <td>21.37%</td>\n",
              "      <td></td>\n",
              "    </tr>\n",
              "    <tr>\n",
              "      <th>23</th>\n",
              "      <td>LSHAX</td>\n",
              "      <td>Kinetics Spin-off and Corporate Restructuring ...</td>\n",
              "      <td>+0.28</td>\n",
              "      <td>+1.03%</td>\n",
              "      <td>27.18</td>\n",
              "      <td>24.72</td>\n",
              "      <td>20.97</td>\n",
              "      <td>4.32%</td>\n",
              "      <td>4.32%</td>\n",
              "      <td></td>\n",
              "    </tr>\n",
              "    <tr>\n",
              "      <th>24</th>\n",
              "      <td>KSOAX</td>\n",
              "      <td>The Small Cap Opportunities Fd Adv Cl A a seri...</td>\n",
              "      <td>+1.30</td>\n",
              "      <td>+0.98%</td>\n",
              "      <td>132.11</td>\n",
              "      <td>121.29</td>\n",
              "      <td>107.50</td>\n",
              "      <td>22.88%</td>\n",
              "      <td>38.47%</td>\n",
              "      <td></td>\n",
              "    </tr>\n",
              "  </tbody>\n",
              "</table>\n",
              "</div>\n",
              "      <button class=\"colab-df-convert\" onclick=\"convertToInteractive('df-934baa50-637a-4a93-81a2-a3ffed639be5')\"\n",
              "              title=\"Convert this dataframe to an interactive table.\"\n",
              "              style=\"display:none;\">\n",
              "        \n",
              "  <svg xmlns=\"http://www.w3.org/2000/svg\" height=\"24px\"viewBox=\"0 0 24 24\"\n",
              "       width=\"24px\">\n",
              "    <path d=\"M0 0h24v24H0V0z\" fill=\"none\"/>\n",
              "    <path d=\"M18.56 5.44l.94 2.06.94-2.06 2.06-.94-2.06-.94-.94-2.06-.94 2.06-2.06.94zm-11 1L8.5 8.5l.94-2.06 2.06-.94-2.06-.94L8.5 2.5l-.94 2.06-2.06.94zm10 10l.94 2.06.94-2.06 2.06-.94-2.06-.94-.94-2.06-.94 2.06-2.06.94z\"/><path d=\"M17.41 7.96l-1.37-1.37c-.4-.4-.92-.59-1.43-.59-.52 0-1.04.2-1.43.59L10.3 9.45l-7.72 7.72c-.78.78-.78 2.05 0 2.83L4 21.41c.39.39.9.59 1.41.59.51 0 1.02-.2 1.41-.59l7.78-7.78 2.81-2.81c.8-.78.8-2.07 0-2.86zM5.41 20L4 18.59l7.72-7.72 1.47 1.35L5.41 20z\"/>\n",
              "  </svg>\n",
              "      </button>\n",
              "      \n",
              "  <style>\n",
              "    .colab-df-container {\n",
              "      display:flex;\n",
              "      flex-wrap:wrap;\n",
              "      gap: 12px;\n",
              "    }\n",
              "\n",
              "    .colab-df-convert {\n",
              "      background-color: #E8F0FE;\n",
              "      border: none;\n",
              "      border-radius: 50%;\n",
              "      cursor: pointer;\n",
              "      display: none;\n",
              "      fill: #1967D2;\n",
              "      height: 32px;\n",
              "      padding: 0 0 0 0;\n",
              "      width: 32px;\n",
              "    }\n",
              "\n",
              "    .colab-df-convert:hover {\n",
              "      background-color: #E2EBFA;\n",
              "      box-shadow: 0px 1px 2px rgba(60, 64, 67, 0.3), 0px 1px 3px 1px rgba(60, 64, 67, 0.15);\n",
              "      fill: #174EA6;\n",
              "    }\n",
              "\n",
              "    [theme=dark] .colab-df-convert {\n",
              "      background-color: #3B4455;\n",
              "      fill: #D2E3FC;\n",
              "    }\n",
              "\n",
              "    [theme=dark] .colab-df-convert:hover {\n",
              "      background-color: #434B5C;\n",
              "      box-shadow: 0px 1px 3px 1px rgba(0, 0, 0, 0.15);\n",
              "      filter: drop-shadow(0px 1px 2px rgba(0, 0, 0, 0.3));\n",
              "      fill: #FFFFFF;\n",
              "    }\n",
              "  </style>\n",
              "\n",
              "      <script>\n",
              "        const buttonEl =\n",
              "          document.querySelector('#df-934baa50-637a-4a93-81a2-a3ffed639be5 button.colab-df-convert');\n",
              "        buttonEl.style.display =\n",
              "          google.colab.kernel.accessAllowed ? 'block' : 'none';\n",
              "\n",
              "        async function convertToInteractive(key) {\n",
              "          const element = document.querySelector('#df-934baa50-637a-4a93-81a2-a3ffed639be5');\n",
              "          const dataTable =\n",
              "            await google.colab.kernel.invokeFunction('convertToInteractive',\n",
              "                                                     [key], {});\n",
              "          if (!dataTable) return;\n",
              "\n",
              "          const docLinkHtml = 'Like what you see? Visit the ' +\n",
              "            '<a target=\"_blank\" href=https://colab.research.google.com/notebooks/data_table.ipynb>data table notebook</a>'\n",
              "            + ' to learn more about interactive tables.';\n",
              "          element.innerHTML = '';\n",
              "          dataTable['output_type'] = 'display_data';\n",
              "          await google.colab.output.renderOutput(dataTable, element);\n",
              "          const docLink = document.createElement('div');\n",
              "          docLink.innerHTML = docLinkHtml;\n",
              "          element.appendChild(docLink);\n",
              "        }\n",
              "      </script>\n",
              "    </div>\n",
              "  </div>\n",
              "  "
            ]
          },
          "metadata": {},
          "execution_count": 208
        }
      ]
    },
    {
      "cell_type": "code",
      "source": [
        "#how to get all data(from page 2, 3, etc)\n",
        "#what next?"
      ],
      "metadata": {
        "id": "8BfCzAEwLBDz"
      },
      "execution_count": 209,
      "outputs": []
    },
    {
      "cell_type": "code",
      "source": [],
      "metadata": {
        "id": "UGJCpU-IL1Z3"
      },
      "execution_count": null,
      "outputs": []
    },
    {
      "cell_type": "code",
      "source": [],
      "metadata": {
        "id": "UmoEB9CmL17_"
      },
      "execution_count": null,
      "outputs": []
    }
  ]
}